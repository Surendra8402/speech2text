{
  "cells": [
    {
      "cell_type": "code",
      "execution_count": null,
      "metadata": {
        "colab": {
          "base_uri": "https://localhost:8080/"
        },
        "id": "jRdpWp6Qh1rA",
        "outputId": "15b452ef-15a5-43e5-b1a5-589b62494c4c"
      },
      "outputs": [
        {
          "output_type": "stream",
          "name": "stdout",
          "text": [
            "Collecting SpeechRecognition\n",
            "  Downloading SpeechRecognition-3.10.0-py2.py3-none-any.whl (32.8 MB)\n",
            "\u001b[2K     \u001b[90m━━━━━━━━━━━━━━━━━━━━━━━━━━━━━━━━━━━━━━━━\u001b[0m \u001b[32m32.8/32.8 MB\u001b[0m \u001b[31m37.9 MB/s\u001b[0m eta \u001b[36m0:00:00\u001b[0m\n",
            "\u001b[?25hCollecting pyaudio\n",
            "  Downloading PyAudio-0.2.13.tar.gz (46 kB)\n",
            "\u001b[2K     \u001b[90m━━━━━━━━━━━━━━━━━━━━━━━━━━━━━━━━━━━━━━━━\u001b[0m \u001b[32m46.8/46.8 kB\u001b[0m \u001b[31m5.8 MB/s\u001b[0m eta \u001b[36m0:00:00\u001b[0m\n",
            "\u001b[?25h  Installing build dependencies ... \u001b[?25l\u001b[?25hdone\n",
            "  Getting requirements to build wheel ... \u001b[?25l\u001b[?25hdone\n",
            "  Preparing metadata (pyproject.toml) ... \u001b[?25l\u001b[?25hdone\n",
            "Requirement already satisfied: requests>=2.26.0 in /usr/local/lib/python3.10/dist-packages (from SpeechRecognition) (2.31.0)\n",
            "Requirement already satisfied: charset-normalizer<4,>=2 in /usr/local/lib/python3.10/dist-packages (from requests>=2.26.0->SpeechRecognition) (3.3.1)\n",
            "Requirement already satisfied: idna<4,>=2.5 in /usr/local/lib/python3.10/dist-packages (from requests>=2.26.0->SpeechRecognition) (3.4)\n",
            "Requirement already satisfied: urllib3<3,>=1.21.1 in /usr/local/lib/python3.10/dist-packages (from requests>=2.26.0->SpeechRecognition) (2.0.7)\n",
            "Requirement already satisfied: certifi>=2017.4.17 in /usr/local/lib/python3.10/dist-packages (from requests>=2.26.0->SpeechRecognition) (2023.7.22)\n",
            "Building wheels for collected packages: pyaudio\n",
            "  \u001b[1;31merror\u001b[0m: \u001b[1msubprocess-exited-with-error\u001b[0m\n",
            "  \n",
            "  \u001b[31m×\u001b[0m \u001b[32mBuilding wheel for pyaudio \u001b[0m\u001b[1;32m(\u001b[0m\u001b[32mpyproject.toml\u001b[0m\u001b[1;32m)\u001b[0m did not run successfully.\n",
            "  \u001b[31m│\u001b[0m exit code: \u001b[1;36m1\u001b[0m\n",
            "  \u001b[31m╰─>\u001b[0m See above for output.\n",
            "  \n",
            "  \u001b[1;35mnote\u001b[0m: This error originates from a subprocess, and is likely not a problem with pip.\n",
            "  Building wheel for pyaudio (pyproject.toml) ... \u001b[?25l\u001b[?25herror\n",
            "\u001b[31m  ERROR: Failed building wheel for pyaudio\u001b[0m\u001b[31m\n",
            "\u001b[0mFailed to build pyaudio\n",
            "\u001b[31mERROR: Could not build wheels for pyaudio, which is required to install pyproject.toml-based projects\u001b[0m\u001b[31m\n",
            "\u001b[0m"
          ]
        }
      ],
      "source": [
        "!pip install SpeechRecognition pyaudio"
      ]
    },
    {
      "cell_type": "code",
      "execution_count": null,
      "metadata": {
        "colab": {
          "base_uri": "https://localhost:8080/"
        },
        "id": "kBpIhq-siVf8",
        "outputId": "e5848a31-4a5a-4d09-f6a7-b2b5881e8e17"
      },
      "outputs": [
        {
          "output_type": "stream",
          "name": "stdout",
          "text": [
            "Collecting SpeechRecognition\n",
            "  Using cached SpeechRecognition-3.10.0-py2.py3-none-any.whl (32.8 MB)\n",
            "Requirement already satisfied: requests>=2.26.0 in /usr/local/lib/python3.10/dist-packages (from SpeechRecognition) (2.31.0)\n",
            "Requirement already satisfied: charset-normalizer<4,>=2 in /usr/local/lib/python3.10/dist-packages (from requests>=2.26.0->SpeechRecognition) (3.3.1)\n",
            "Requirement already satisfied: idna<4,>=2.5 in /usr/local/lib/python3.10/dist-packages (from requests>=2.26.0->SpeechRecognition) (3.4)\n",
            "Requirement already satisfied: urllib3<3,>=1.21.1 in /usr/local/lib/python3.10/dist-packages (from requests>=2.26.0->SpeechRecognition) (2.0.7)\n",
            "Requirement already satisfied: certifi>=2017.4.17 in /usr/local/lib/python3.10/dist-packages (from requests>=2.26.0->SpeechRecognition) (2023.7.22)\n",
            "Installing collected packages: SpeechRecognition\n",
            "Successfully installed SpeechRecognition-3.10.0\n"
          ]
        }
      ],
      "source": [
        "!pip install SpeechRecognition\n",
        "import speech_recognition as sr"
      ]
    },
    {
      "cell_type": "code",
      "execution_count": null,
      "metadata": {
        "colab": {
          "base_uri": "https://localhost:8080/"
        },
        "id": "xWCVNeQdiqUb",
        "outputId": "26825cef-edba-4d61-a88b-97645f14901c"
      },
      "outputs": [
        {
          "output_type": "stream",
          "name": "stdout",
          "text": [
            "Recognized Text: hello how are you\n"
          ]
        }
      ],
      "source": [
        "import speech_recognition as sr\n",
        "\n",
        "recognizer = sr.Recognizer()\n",
        "\n",
        "def recognize_speech(audio_path):\n",
        "    with sr.AudioFile(audio_path) as source:\n",
        "        audio_data = recognizer.record(source)\n",
        "        try:\n",
        "            text = recognizer.recognize_google(audio_data)\n",
        "            return text\n",
        "        except sr.UnknownValueError:\n",
        "            return \"Could not understand audio\"\n",
        "        except sr.RequestError as e:\n",
        "            return \"Could not request results; {0}\".format(e)\n",
        "\n",
        "#Example usage:\n",
        "input_audio = \"/content/drive/MyDrive/123.wav\"\n",
        "recognized_text = recognize_speech(input_audio)\n",
        "print(\"Recognized Text:\", recognized_text)\n"
      ]
    },
    {
      "cell_type": "code",
      "execution_count": null,
      "metadata": {
        "id": "w5yl5et4jDOw"
      },
      "outputs": [],
      "source": [
        "import spacy\n",
        "\n",
        "# Load the language model\n",
        "nlp = spacy.load(\"en_core_web_sm\")  # (de_core_news_sm )for german language\n",
        "\n",
        "def process_text(text):\n",
        "    doc = nlp(text)\n",
        "    # Perform NLP tasks here\n",
        "    return doc\n",
        "\n",
        "# Example usage:\n",
        "#text_to_process = \"This is a sample text to process.\"\n",
        "#processed_doc = process_text(text_to_process)\n"
      ]
    },
    {
      "cell_type": "code",
      "execution_count": null,
      "metadata": {
        "colab": {
          "base_uri": "https://localhost:8080/"
        },
        "id": "rKOSSn-kLyzV",
        "outputId": "42ef2df7-4131-41ba-d575-81d244df42cd"
      },
      "outputs": [
        {
          "output_type": "stream",
          "name": "stdout",
          "text": [
            "Collecting gTTs\n",
            "  Downloading gTTS-2.4.0-py3-none-any.whl (29 kB)\n",
            "Requirement already satisfied: requests<3,>=2.27 in /usr/local/lib/python3.10/dist-packages (from gTTs) (2.31.0)\n",
            "Requirement already satisfied: click<8.2,>=7.1 in /usr/local/lib/python3.10/dist-packages (from gTTs) (8.1.7)\n",
            "Requirement already satisfied: charset-normalizer<4,>=2 in /usr/local/lib/python3.10/dist-packages (from requests<3,>=2.27->gTTs) (3.3.1)\n",
            "Requirement already satisfied: idna<4,>=2.5 in /usr/local/lib/python3.10/dist-packages (from requests<3,>=2.27->gTTs) (3.4)\n",
            "Requirement already satisfied: urllib3<3,>=1.21.1 in /usr/local/lib/python3.10/dist-packages (from requests<3,>=2.27->gTTs) (2.0.7)\n",
            "Requirement already satisfied: certifi>=2017.4.17 in /usr/local/lib/python3.10/dist-packages (from requests<3,>=2.27->gTTs) (2023.7.22)\n",
            "Installing collected packages: gTTs\n",
            "Successfully installed gTTs-2.4.0\n"
          ]
        }
      ],
      "source": [
        "!pip install gTTs\n",
        "import gtts"
      ]
    },
    {
      "cell_type": "code",
      "execution_count": null,
      "metadata": {
        "id": "GGbFp4QOjPfp"
      },
      "outputs": [],
      "source": [
        "import gtts\n",
        "\n",
        "def text_to_speech(text, output_path):\n",
        "    tts = gTTS(text)\n",
        "    tts.save(output_path)"
      ]
    },
    {
      "cell_type": "code",
      "execution_count": null,
      "metadata": {
        "id": "wvETjUV5ndT0"
      },
      "outputs": [],
      "source": [
        "from gtts import gTTS\n",
        "\n",
        "# Text to be converted to speech\n",
        "text = \"Hello, this is a test.\"\n",
        "\n",
        "# Language in which you want to convert\n",
        "language = \"en\"\n",
        "\n",
        "# Passing the text and language to the engine,\n",
        "# here we have marked slow=False. Which tells\n",
        "# the module that the converted audio should\n",
        "# have a high speed\n",
        "tts = gTTS(text=text, lang=language, slow=False)\n",
        "\n",
        "# Saving the converted audio in a file\n",
        "tts.save(\"output.mp3\")"
      ]
    },
    {
      "cell_type": "code",
      "execution_count": null,
      "metadata": {
        "colab": {
          "base_uri": "https://localhost:8080/",
          "height": 92
        },
        "id": "DLkNLydWlz20",
        "outputId": "83e9a0e1-e353-42e0-9eac-67cc64229e84"
      },
      "outputs": [
        {
          "output_type": "stream",
          "name": "stdout",
          "text": [
            "Recognized Text: hello how are you\n"
          ]
        },
        {
          "output_type": "execute_result",
          "data": {
            "text/plain": [
              "<IPython.lib.display.Audio object>"
            ],
            "text/html": [
              "\n",
              "                <audio  controls=\"controls\" autoplay=\"autoplay\">\n",
              "                    <source src=\"data:audio/x-wav;base64,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\" type=\"audio/x-wav\" />\n",
              "                    Your browser does not support the audio element.\n",
              "                </audio>\n",
              "              "
            ]
          },
          "metadata": {},
          "execution_count": 15
        }
      ],
      "source": [
        "def stt_tts(audio_path, output_path):\n",
        "    # Step 1: Convert speech to text\n",
        "    recognized_text = recognize_speech(audio_path)\n",
        "\n",
        "    # Step 2: NLP Processing\n",
        "    processed_text = process_text(recognized_text)\n",
        "\n",
        "    # Step 3: Generate speech from processed text\n",
        "    text_to_speech(processed_text.text, output_path)\n",
        "\n",
        "# Example usage:\n",
        "\n",
        "print(\"Recognized Text:\", recognized_text)\n",
        "from IPython.display import Audio\n",
        "tts =  gTTS(\"Hello mam how was our presentation\")\n",
        "tts.save('1.wav')\n",
        "sound_file = '1.wav'\n",
        "Audio(sound_file,autoplay = True)"
      ]
    },
    {
      "cell_type": "code",
      "execution_count": null,
      "metadata": {
        "id": "vLfVKoA7syVE"
      },
      "outputs": [],
      "source": []
    }
  ],
  "metadata": {
    "colab": {
      "provenance": []
    },
    "kernelspec": {
      "display_name": "Python 3",
      "name": "python3"
    },
    "language_info": {
      "name": "python"
    }
  },
  "nbformat": 4,
  "nbformat_minor": 0
}